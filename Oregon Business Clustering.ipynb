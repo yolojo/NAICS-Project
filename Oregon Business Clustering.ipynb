{
 "cells": [
  {
   "cell_type": "markdown",
   "metadata": {},
   "source": [
    "# K Means Clustering of Oregon Businesses "
   ]
  },
  {
   "cell_type": "markdown",
   "metadata": {},
   "source": [
    "The dataset used in this KMeans Clustering is from County Business Patterns and has business data – NAICS codes and number of employees – by ZCTA (the Census version of ZIP code that is consistent for longitudinal analysis).\n",
    "\n",
    "There is customer-focused piece of this (businesses) as well as presence of contractors to deliver projects based upon their NAICS codes. The data is from Bureau of Labor Statistics. In the past, the dataset in other states and was able to cross-reference business size with utility energy usage (not public data) and the correlation was strong enough to be useful to programs.\n",
    "\n",
    "In this dataset, we want to explore the dataset and mine this for clusters of businesses by size and industry type (Using NAICS Codes)."
   ]
  },
  {
   "cell_type": "code",
   "execution_count": 6,
   "metadata": {},
   "outputs": [],
   "source": [
    "#importing necessary libraries\n",
    "import pandas as pd\n",
    "import numpy as np \n",
    "import seaborn as sns\n",
    "import matplotlib.pyplot as plt\n",
    "%matplotlib inline"
   ]
  },
  {
   "cell_type": "code",
   "execution_count": 7,
   "metadata": {},
   "outputs": [],
   "source": [
    "nacis = pd.read_csv('NACIS.txt')\n",
    "df = pd.DataFrame(nacis)"
   ]
  },
  {
   "cell_type": "code",
   "execution_count": 8,
   "metadata": {},
   "outputs": [
    {
     "data": {
      "text/html": [
       "<div>\n",
       "<style scoped>\n",
       "    .dataframe tbody tr th:only-of-type {\n",
       "        vertical-align: middle;\n",
       "    }\n",
       "\n",
       "    .dataframe tbody tr th {\n",
       "        vertical-align: top;\n",
       "    }\n",
       "\n",
       "    .dataframe thead th {\n",
       "        text-align: right;\n",
       "    }\n",
       "</style>\n",
       "<table border=\"1\" class=\"dataframe\">\n",
       "  <thead>\n",
       "    <tr style=\"text-align: right;\">\n",
       "      <th></th>\n",
       "      <th>fipstate</th>\n",
       "      <th>naics</th>\n",
       "      <th>lfo</th>\n",
       "      <th>empflag</th>\n",
       "      <th>emp_nf</th>\n",
       "      <th>emp</th>\n",
       "      <th>qp1_nf</th>\n",
       "      <th>qp1</th>\n",
       "      <th>ap_nf</th>\n",
       "      <th>ap</th>\n",
       "      <th>...</th>\n",
       "      <th>n500_999</th>\n",
       "      <th>f1000</th>\n",
       "      <th>e1000nf</th>\n",
       "      <th>e1000</th>\n",
       "      <th>q1000nf</th>\n",
       "      <th>q1000</th>\n",
       "      <th>a1000nf</th>\n",
       "      <th>a1000</th>\n",
       "      <th>n1000</th>\n",
       "      <th>censtate</th>\n",
       "    </tr>\n",
       "  </thead>\n",
       "  <tbody>\n",
       "    <tr>\n",
       "      <th>0</th>\n",
       "      <td>1</td>\n",
       "      <td>------</td>\n",
       "      <td>-</td>\n",
       "      <td>NaN</td>\n",
       "      <td>G</td>\n",
       "      <td>1673249</td>\n",
       "      <td>G</td>\n",
       "      <td>16667378</td>\n",
       "      <td>G</td>\n",
       "      <td>68970623</td>\n",
       "      <td>...</td>\n",
       "      <td>192</td>\n",
       "      <td>NaN</td>\n",
       "      <td>G</td>\n",
       "      <td>178085</td>\n",
       "      <td>G</td>\n",
       "      <td>2332729</td>\n",
       "      <td>G</td>\n",
       "      <td>9441224</td>\n",
       "      <td>92</td>\n",
       "      <td>63</td>\n",
       "    </tr>\n",
       "    <tr>\n",
       "      <th>1</th>\n",
       "      <td>1</td>\n",
       "      <td>------</td>\n",
       "      <td>C</td>\n",
       "      <td>NaN</td>\n",
       "      <td>G</td>\n",
       "      <td>766685</td>\n",
       "      <td>G</td>\n",
       "      <td>8868459</td>\n",
       "      <td>G</td>\n",
       "      <td>35219759</td>\n",
       "      <td>...</td>\n",
       "      <td>121</td>\n",
       "      <td>NaN</td>\n",
       "      <td>G</td>\n",
       "      <td>89807</td>\n",
       "      <td>G</td>\n",
       "      <td>1269209</td>\n",
       "      <td>G</td>\n",
       "      <td>4863040</td>\n",
       "      <td>49</td>\n",
       "      <td>63</td>\n",
       "    </tr>\n",
       "    <tr>\n",
       "      <th>2</th>\n",
       "      <td>1</td>\n",
       "      <td>------</td>\n",
       "      <td>Z</td>\n",
       "      <td>NaN</td>\n",
       "      <td>G</td>\n",
       "      <td>473577</td>\n",
       "      <td>G</td>\n",
       "      <td>4150278</td>\n",
       "      <td>G</td>\n",
       "      <td>18378077</td>\n",
       "      <td>...</td>\n",
       "      <td>28</td>\n",
       "      <td>NaN</td>\n",
       "      <td>H</td>\n",
       "      <td>21835</td>\n",
       "      <td>G</td>\n",
       "      <td>195301</td>\n",
       "      <td>G</td>\n",
       "      <td>914997</td>\n",
       "      <td>13</td>\n",
       "      <td>63</td>\n",
       "    </tr>\n",
       "    <tr>\n",
       "      <th>3</th>\n",
       "      <td>1</td>\n",
       "      <td>------</td>\n",
       "      <td>S</td>\n",
       "      <td>NaN</td>\n",
       "      <td>G</td>\n",
       "      <td>67223</td>\n",
       "      <td>G</td>\n",
       "      <td>490235</td>\n",
       "      <td>G</td>\n",
       "      <td>2119042</td>\n",
       "      <td>...</td>\n",
       "      <td>8</td>\n",
       "      <td>I</td>\n",
       "      <td>D</td>\n",
       "      <td>0</td>\n",
       "      <td>D</td>\n",
       "      <td>0</td>\n",
       "      <td>D</td>\n",
       "      <td>0</td>\n",
       "      <td>2</td>\n",
       "      <td>63</td>\n",
       "    </tr>\n",
       "    <tr>\n",
       "      <th>4</th>\n",
       "      <td>1</td>\n",
       "      <td>------</td>\n",
       "      <td>P</td>\n",
       "      <td>NaN</td>\n",
       "      <td>G</td>\n",
       "      <td>180868</td>\n",
       "      <td>G</td>\n",
       "      <td>1518668</td>\n",
       "      <td>G</td>\n",
       "      <td>6433918</td>\n",
       "      <td>...</td>\n",
       "      <td>10</td>\n",
       "      <td>NaN</td>\n",
       "      <td>G</td>\n",
       "      <td>12565</td>\n",
       "      <td>H</td>\n",
       "      <td>153701</td>\n",
       "      <td>H</td>\n",
       "      <td>661490</td>\n",
       "      <td>7</td>\n",
       "      <td>63</td>\n",
       "    </tr>\n",
       "  </tbody>\n",
       "</table>\n",
       "<p>5 rows × 84 columns</p>\n",
       "</div>"
      ],
      "text/plain": [
       "   fipstate   naics lfo empflag emp_nf      emp qp1_nf       qp1 ap_nf  \\\n",
       "0         1  ------   -     NaN      G  1673249      G  16667378     G   \n",
       "1         1  ------   C     NaN      G   766685      G   8868459     G   \n",
       "2         1  ------   Z     NaN      G   473577      G   4150278     G   \n",
       "3         1  ------   S     NaN      G    67223      G    490235     G   \n",
       "4         1  ------   P     NaN      G   180868      G   1518668     G   \n",
       "\n",
       "         ap   ...     n500_999 f1000 e1000nf   e1000 q1000nf    q1000 a1000nf  \\\n",
       "0  68970623   ...          192   NaN       G  178085       G  2332729       G   \n",
       "1  35219759   ...          121   NaN       G   89807       G  1269209       G   \n",
       "2  18378077   ...           28   NaN       H   21835       G   195301       G   \n",
       "3   2119042   ...            8     I       D       0       D        0       D   \n",
       "4   6433918   ...           10   NaN       G   12565       H   153701       H   \n",
       "\n",
       "     a1000  n1000 censtate  \n",
       "0  9441224     92       63  \n",
       "1  4863040     49       63  \n",
       "2   914997     13       63  \n",
       "3        0      2       63  \n",
       "4   661490      7       63  \n",
       "\n",
       "[5 rows x 84 columns]"
      ]
     },
     "execution_count": 8,
     "metadata": {},
     "output_type": "execute_result"
    }
   ],
   "source": [
    "df.head()"
   ]
  },
  {
   "cell_type": "markdown",
   "metadata": {},
   "source": [
    "By looking at the dataset head, we have 84 columns. The description of each column can be seen below:\n",
    "\n",
    "FIPSTATE        C    FIPS State Code \n",
    "NAICS           C    Industry Code - 6-digit NAICS code.                     \n",
    "EMPFLAG         C    Data Suppression Flag\n",
    "EMP             N    Total Mid-March Employees\n",
    "QP1             N    Total First Quarter Payroll ($1,000)                                                             \n",
    "AP              N    Total Annual Payroll ($1,000)\n",
    "EST             N    Total Number of Establishments\n",
    "F1_4            C    Data Suppression Flag: - 1-4 Employee Size Class\n",
    "E1_4            N    Mid-March Employees: - 1-4 Employee Size Class\n",
    "Q1_4            N    First Quarter Payroll ($1,000): - 1-4 Employee Size Class\n",
    "A1_4            N    Annual Payroll ($1,000): - 1-4 Employee Size Class\n",
    "N1_4            N    Number of Establishments: 1-4 Employee Size Class\n",
    "F5_9            C    Data Suppression Flag: 5-9 Employee Size Class\n",
    "Q5_9            N    First Quarter Payroll ($1,000): - 5-9 Employee Size Class\n",
    "A5_9            N    Annual Payroll ($1,000): - 5-9 Employee Size Class\n",
    "N5_9            N    Number of Establishments: 5-9 Employee Size Class\n",
    "F10_19          C    Data Suppression Flag: 10-19 Employee Size Class\n",
    "E10_19          N    Mid-March Employees: - 10-19 Employee Size Class\n",
    "Q10_19          N    First Quarter Payroll ($1,000): - 10-19 Employee Size Class\n",
    "A10_19          N    Annual Payroll ($1,000): - 10-19 Employee Size Class\n",
    "E5_9            N    Mid-March Employees: - 5-9 Employee Size Class\n",
    "N10_19          N    Number of Establishments: 10-19 Employee Size Class\n",
    "F20_49          C    Data Suppression Flag: 20-49 Employee Size Class\n",
    "E20_49          N    Mid-March Employees: - 20-49 Employee Size Class\n",
    "Q20_49          N    First Quarter Payroll ($1,000): - 20-49 Employee Size Class\n",
    "A20_49          N    Annual Payroll ($1,000): - 20-49 Employee Size Class\n",
    "N20_49          N    Number of Establishments: 20-49 Employee Size Class\n",
    "F50_99          C    Data Suppression Flag: 50-99 Employee Size Class\n",
    "E50_99          N    Mid-March Employees: - 50-99 Employee Size Class\n",
    "Q50_99          N    First Quarter Payroll ($1,000): - 50-99 Employee Size Class\n",
    "A50_99          N    Annual Payroll ($1,000): - 50-99 Employee Size Class\n",
    "N50_99          N    Number of Establishments: 50-99 Employee Size Class\n",
    "F100_249        C    Data Suppression Flag: 100-249 Employee Size Class\n",
    "E100_249        N    Mid-March Employees: - 100-249 Employee Size Class\n",
    "Q100_249        N    First Quarter Payroll ($1,000): - 100-249 Employee Size Class\n",
    "A100_249        N    Annual Payroll ($1,000): - 100-249 Employee Size Class\n",
    "N100_249        N    Number of Establishments: 100-249 Employee Size Class\n",
    "N100_249        N    Number of Establishments: 100-249 Employee Size Class\n",
    "F250_499        C    Data Suppression Flag: 250-499 Employee Size Class\n",
    "E250_499        N    Mid-March Employees: - 250-499 Employee Size Class\n",
    "Q250_499        N    First Quarter Payroll ($1,000): - 250-499 Employee Size Class\n",
    "A250_499        N    Annual Payroll ($1,000): - 250-499 Employee Size Class\n",
    "N250_499        N    Number of Establishments: 250-499 Employee Size Class\n",
    "F500_999        C    Data Suppression Flag: 500-999 Employee Size Class\n",
    "E500_999        N    Mid-March Employees: - 500-999 Employee Size Class\n",
    "Q500_999        N    First Quarter Payroll ($1,000): - 500-999 Employee Size Class\n",
    "A500_999        N    Annual Payroll ($1,000): - 500-999 Employee Size Class\n",
    "N500_999        N    Number of Establishments: 500-999 Employee Size Class\n",
    "F1000           C    Data Suppression Flag: - 1,000 or More Employee Size Class\n",
    "E1000           N    Mid-March Employees: - 1,000 or More Employee Size Class\n",
    "Q1000           N    First Quarter Payroll ($1,000): - 1,000 or More Employee Size Class\n",
    "A1000           N    Annual Payroll ($1,000): - 1,000 or More Employee Size Class\n",
    "N1000           N    Number of Establishments: 1,000 or More Employee Size Class\n",
    "CENSTATE        C    Census State Code\n"
   ]
  },
  {
   "cell_type": "code",
   "execution_count": 9,
   "metadata": {},
   "outputs": [
    {
     "data": {
      "text/plain": [
       "Index(['fipstate', 'naics', 'lfo', 'empflag', 'emp_nf', 'emp', 'qp1_nf', 'qp1',\n",
       "       'ap_nf', 'ap', 'est', 'f1_4', 'e1_4nf', 'e1_4', 'q1_4nf', 'q1_4',\n",
       "       'a1_4nf', 'a1_4', 'n1_4', 'f5_9', 'e5_9nf', 'e5_9', 'q5_9nf', 'q5_9',\n",
       "       'a5_9nf', 'a5_9', 'n5_9', 'f10_19', 'e10_19nf', 'e10_19', 'q10_19nf',\n",
       "       'q10_19', 'a10_19nf', 'a10_19', 'n10_19', 'f20_49', 'e20_49nf',\n",
       "       'e20_49', 'q20_49nf', 'q20_49', 'a20_49nf', 'a20_49', 'n20_49',\n",
       "       'f50_99', 'e50_99nf', 'e50_99', 'q50_99nf', 'q50_99', 'a50_99nf',\n",
       "       'a50_99', 'n50_99', 'f100_249', 'e100_249nf', 'e100_249', 'q100_249nf',\n",
       "       'q100_249', 'a100_249nf', 'a100_249', 'n100_249', 'f250_499',\n",
       "       'e250_499nf', 'e250_499', 'q250_499nf', 'q250_499', 'a250_499nf',\n",
       "       'a250_499', 'n250_499', 'f500_999', 'e500_999nf', 'e500_999',\n",
       "       'q500_999nf', 'q500_999', 'a500_999nf', 'a500_999', 'n500_999', 'f1000',\n",
       "       'e1000nf', 'e1000', 'q1000nf', 'q1000', 'a1000nf', 'a1000', 'n1000',\n",
       "       'censtate'],\n",
       "      dtype='object')"
      ]
     },
     "execution_count": 9,
     "metadata": {},
     "output_type": "execute_result"
    }
   ],
   "source": [
    "df.columns"
   ]
  },
  {
   "cell_type": "markdown",
   "metadata": {},
   "source": [
    "### Dropping unwanted columns\n",
    "\n",
    "Since the 'ap' and 'est' columns summarize columns 'f1_4' to 'n1000', we are going to drop these columns and remain with a much cleaner dataset to work with."
   ]
  },
  {
   "cell_type": "code",
   "execution_count": 10,
   "metadata": {},
   "outputs": [],
   "source": [
    "df = df.drop(['f1_4', 'e1_4nf', 'e1_4', 'q1_4nf', 'q1_4',\n",
    "       'a1_4nf', 'a1_4', 'n1_4', 'f5_9', 'e5_9nf', 'e5_9', 'q5_9nf', 'q5_9',\n",
    "       'a5_9nf', 'a5_9', 'n5_9', 'f10_19', 'e10_19nf', 'e10_19', 'q10_19nf',\n",
    "       'q10_19', 'a10_19nf', 'a10_19', 'n10_19', 'f20_49', 'e20_49nf',\n",
    "       'e20_49', 'q20_49nf', 'q20_49', 'a20_49nf', 'a20_49', 'n20_49',\n",
    "       'f50_99', 'e50_99nf', 'e50_99', 'q50_99nf', 'q50_99', 'a50_99nf',\n",
    "       'a50_99', 'n50_99', 'f100_249', 'e100_249nf', 'e100_249', 'q100_249nf',\n",
    "       'q100_249', 'a100_249nf', 'a100_249', 'n100_249', 'f250_499',\n",
    "       'e250_499nf', 'e250_499', 'q250_499nf', 'q250_499', 'a250_499nf',\n",
    "       'a250_499', 'n250_499', 'f500_999', 'e500_999nf', 'e500_999',\n",
    "       'q500_999nf', 'q500_999', 'a500_999nf', 'a500_999', 'n500_999', 'f1000',\n",
    "       'e1000nf', 'e1000', 'q1000nf', 'q1000', 'a1000nf', 'a1000', 'n1000'], axis = 1)"
   ]
  },
  {
   "cell_type": "code",
   "execution_count": 11,
   "metadata": {},
   "outputs": [
    {
     "data": {
      "text/html": [
       "<div>\n",
       "<style scoped>\n",
       "    .dataframe tbody tr th:only-of-type {\n",
       "        vertical-align: middle;\n",
       "    }\n",
       "\n",
       "    .dataframe tbody tr th {\n",
       "        vertical-align: top;\n",
       "    }\n",
       "\n",
       "    .dataframe thead th {\n",
       "        text-align: right;\n",
       "    }\n",
       "</style>\n",
       "<table border=\"1\" class=\"dataframe\">\n",
       "  <thead>\n",
       "    <tr style=\"text-align: right;\">\n",
       "      <th></th>\n",
       "      <th>fipstate</th>\n",
       "      <th>naics</th>\n",
       "      <th>lfo</th>\n",
       "      <th>empflag</th>\n",
       "      <th>emp_nf</th>\n",
       "      <th>emp</th>\n",
       "      <th>qp1_nf</th>\n",
       "      <th>qp1</th>\n",
       "      <th>ap_nf</th>\n",
       "      <th>ap</th>\n",
       "      <th>est</th>\n",
       "      <th>censtate</th>\n",
       "    </tr>\n",
       "  </thead>\n",
       "  <tbody>\n",
       "    <tr>\n",
       "      <th>0</th>\n",
       "      <td>1</td>\n",
       "      <td>------</td>\n",
       "      <td>-</td>\n",
       "      <td>NaN</td>\n",
       "      <td>G</td>\n",
       "      <td>1673249</td>\n",
       "      <td>G</td>\n",
       "      <td>16667378</td>\n",
       "      <td>G</td>\n",
       "      <td>68970623</td>\n",
       "      <td>99584</td>\n",
       "      <td>63</td>\n",
       "    </tr>\n",
       "    <tr>\n",
       "      <th>1</th>\n",
       "      <td>1</td>\n",
       "      <td>------</td>\n",
       "      <td>C</td>\n",
       "      <td>NaN</td>\n",
       "      <td>G</td>\n",
       "      <td>766685</td>\n",
       "      <td>G</td>\n",
       "      <td>8868459</td>\n",
       "      <td>G</td>\n",
       "      <td>35219759</td>\n",
       "      <td>28682</td>\n",
       "      <td>63</td>\n",
       "    </tr>\n",
       "    <tr>\n",
       "      <th>2</th>\n",
       "      <td>1</td>\n",
       "      <td>------</td>\n",
       "      <td>Z</td>\n",
       "      <td>NaN</td>\n",
       "      <td>G</td>\n",
       "      <td>473577</td>\n",
       "      <td>G</td>\n",
       "      <td>4150278</td>\n",
       "      <td>G</td>\n",
       "      <td>18378077</td>\n",
       "      <td>37856</td>\n",
       "      <td>63</td>\n",
       "    </tr>\n",
       "    <tr>\n",
       "      <th>3</th>\n",
       "      <td>1</td>\n",
       "      <td>------</td>\n",
       "      <td>S</td>\n",
       "      <td>NaN</td>\n",
       "      <td>G</td>\n",
       "      <td>67223</td>\n",
       "      <td>G</td>\n",
       "      <td>490235</td>\n",
       "      <td>G</td>\n",
       "      <td>2119042</td>\n",
       "      <td>11465</td>\n",
       "      <td>63</td>\n",
       "    </tr>\n",
       "    <tr>\n",
       "      <th>4</th>\n",
       "      <td>1</td>\n",
       "      <td>------</td>\n",
       "      <td>P</td>\n",
       "      <td>NaN</td>\n",
       "      <td>G</td>\n",
       "      <td>180868</td>\n",
       "      <td>G</td>\n",
       "      <td>1518668</td>\n",
       "      <td>G</td>\n",
       "      <td>6433918</td>\n",
       "      <td>11941</td>\n",
       "      <td>63</td>\n",
       "    </tr>\n",
       "  </tbody>\n",
       "</table>\n",
       "</div>"
      ],
      "text/plain": [
       "   fipstate   naics lfo empflag emp_nf      emp qp1_nf       qp1 ap_nf  \\\n",
       "0         1  ------   -     NaN      G  1673249      G  16667378     G   \n",
       "1         1  ------   C     NaN      G   766685      G   8868459     G   \n",
       "2         1  ------   Z     NaN      G   473577      G   4150278     G   \n",
       "3         1  ------   S     NaN      G    67223      G    490235     G   \n",
       "4         1  ------   P     NaN      G   180868      G   1518668     G   \n",
       "\n",
       "         ap    est  censtate  \n",
       "0  68970623  99584        63  \n",
       "1  35219759  28682        63  \n",
       "2  18378077  37856        63  \n",
       "3   2119042  11465        63  \n",
       "4   6433918  11941        63  "
      ]
     },
     "execution_count": 11,
     "metadata": {},
     "output_type": "execute_result"
    }
   ],
   "source": [
    "df.head()"
   ]
  },
  {
   "cell_type": "markdown",
   "metadata": {},
   "source": [
    "### Selecting only the State of Oregon\n",
    "\n",
    "The fipstate code for Oregon is 41, therefore we are going to select rows with a fipstate of 41 and thus end up with a dataset of about 9300 rows."
   ]
  },
  {
   "cell_type": "code",
   "execution_count": 12,
   "metadata": {},
   "outputs": [],
   "source": [
    "df = df.loc[325678:335142, :]"
   ]
  },
  {
   "cell_type": "code",
   "execution_count": 13,
   "metadata": {},
   "outputs": [
    {
     "data": {
      "text/html": [
       "<div>\n",
       "<style scoped>\n",
       "    .dataframe tbody tr th:only-of-type {\n",
       "        vertical-align: middle;\n",
       "    }\n",
       "\n",
       "    .dataframe tbody tr th {\n",
       "        vertical-align: top;\n",
       "    }\n",
       "\n",
       "    .dataframe thead th {\n",
       "        text-align: right;\n",
       "    }\n",
       "</style>\n",
       "<table border=\"1\" class=\"dataframe\">\n",
       "  <thead>\n",
       "    <tr style=\"text-align: right;\">\n",
       "      <th></th>\n",
       "      <th>fipstate</th>\n",
       "      <th>naics</th>\n",
       "      <th>lfo</th>\n",
       "      <th>empflag</th>\n",
       "      <th>emp_nf</th>\n",
       "      <th>emp</th>\n",
       "      <th>qp1_nf</th>\n",
       "      <th>qp1</th>\n",
       "      <th>ap_nf</th>\n",
       "      <th>ap</th>\n",
       "      <th>est</th>\n",
       "      <th>censtate</th>\n",
       "    </tr>\n",
       "  </thead>\n",
       "  <tbody>\n",
       "    <tr>\n",
       "      <th>325678</th>\n",
       "      <td>41</td>\n",
       "      <td>------</td>\n",
       "      <td>Z</td>\n",
       "      <td>NaN</td>\n",
       "      <td>G</td>\n",
       "      <td>452979</td>\n",
       "      <td>G</td>\n",
       "      <td>4045397</td>\n",
       "      <td>G</td>\n",
       "      <td>18153655</td>\n",
       "      <td>49893</td>\n",
       "      <td>92</td>\n",
       "    </tr>\n",
       "    <tr>\n",
       "      <th>325679</th>\n",
       "      <td>41</td>\n",
       "      <td>------</td>\n",
       "      <td>S</td>\n",
       "      <td>NaN</td>\n",
       "      <td>G</td>\n",
       "      <td>63299</td>\n",
       "      <td>G</td>\n",
       "      <td>375031</td>\n",
       "      <td>G</td>\n",
       "      <td>1677498</td>\n",
       "      <td>15464</td>\n",
       "      <td>92</td>\n",
       "    </tr>\n",
       "    <tr>\n",
       "      <th>325680</th>\n",
       "      <td>41</td>\n",
       "      <td>------</td>\n",
       "      <td>P</td>\n",
       "      <td>NaN</td>\n",
       "      <td>G</td>\n",
       "      <td>172462</td>\n",
       "      <td>G</td>\n",
       "      <td>1399103</td>\n",
       "      <td>G</td>\n",
       "      <td>6051309</td>\n",
       "      <td>13869</td>\n",
       "      <td>92</td>\n",
       "    </tr>\n",
       "    <tr>\n",
       "      <th>325681</th>\n",
       "      <td>41</td>\n",
       "      <td>------</td>\n",
       "      <td>N</td>\n",
       "      <td>NaN</td>\n",
       "      <td>G</td>\n",
       "      <td>216844</td>\n",
       "      <td>G</td>\n",
       "      <td>2221553</td>\n",
       "      <td>G</td>\n",
       "      <td>9420010</td>\n",
       "      <td>10077</td>\n",
       "      <td>92</td>\n",
       "    </tr>\n",
       "    <tr>\n",
       "      <th>325682</th>\n",
       "      <td>41</td>\n",
       "      <td>------</td>\n",
       "      <td>G</td>\n",
       "      <td>NaN</td>\n",
       "      <td>H</td>\n",
       "      <td>18467</td>\n",
       "      <td>H</td>\n",
       "      <td>299952</td>\n",
       "      <td>H</td>\n",
       "      <td>1188650</td>\n",
       "      <td>23</td>\n",
       "      <td>92</td>\n",
       "    </tr>\n",
       "  </tbody>\n",
       "</table>\n",
       "</div>"
      ],
      "text/plain": [
       "        fipstate   naics lfo empflag emp_nf     emp qp1_nf      qp1 ap_nf  \\\n",
       "325678        41  ------   Z     NaN      G  452979      G  4045397     G   \n",
       "325679        41  ------   S     NaN      G   63299      G   375031     G   \n",
       "325680        41  ------   P     NaN      G  172462      G  1399103     G   \n",
       "325681        41  ------   N     NaN      G  216844      G  2221553     G   \n",
       "325682        41  ------   G     NaN      H   18467      H   299952     H   \n",
       "\n",
       "              ap    est  censtate  \n",
       "325678  18153655  49893        92  \n",
       "325679   1677498  15464        92  \n",
       "325680   6051309  13869        92  \n",
       "325681   9420010  10077        92  \n",
       "325682   1188650     23        92  "
      ]
     },
     "execution_count": 13,
     "metadata": {},
     "output_type": "execute_result"
    }
   ],
   "source": [
    "df.head()"
   ]
  },
  {
   "cell_type": "code",
   "execution_count": 14,
   "metadata": {},
   "outputs": [
    {
     "data": {
      "text/plain": [
       "fipstate     int64\n",
       "naics       object\n",
       "lfo         object\n",
       "empflag     object\n",
       "emp_nf      object\n",
       "emp          int64\n",
       "qp1_nf      object\n",
       "qp1          int64\n",
       "ap_nf       object\n",
       "ap           int64\n",
       "est          int64\n",
       "censtate     int64\n",
       "dtype: object"
      ]
     },
     "execution_count": 14,
     "metadata": {},
     "output_type": "execute_result"
    }
   ],
   "source": [
    "df.dtypes"
   ]
  },
  {
   "cell_type": "markdown",
   "metadata": {},
   "source": [
    "### Cleaning the 'naics' column\n",
    "\n",
    "The 'naics' column is currently an object with various data types in it. However, we want to clean it up and convert it to a float in order to be able to easily manipulate it."
   ]
  },
  {
   "cell_type": "code",
   "execution_count": 15,
   "metadata": {},
   "outputs": [],
   "source": [
    "df['naics'] = df['naics'].str.replace(r'\\D', '')"
   ]
  },
  {
   "cell_type": "code",
   "execution_count": 16,
   "metadata": {},
   "outputs": [
    {
     "data": {
      "text/html": [
       "<div>\n",
       "<style scoped>\n",
       "    .dataframe tbody tr th:only-of-type {\n",
       "        vertical-align: middle;\n",
       "    }\n",
       "\n",
       "    .dataframe tbody tr th {\n",
       "        vertical-align: top;\n",
       "    }\n",
       "\n",
       "    .dataframe thead th {\n",
       "        text-align: right;\n",
       "    }\n",
       "</style>\n",
       "<table border=\"1\" class=\"dataframe\">\n",
       "  <thead>\n",
       "    <tr style=\"text-align: right;\">\n",
       "      <th></th>\n",
       "      <th>fipstate</th>\n",
       "      <th>naics</th>\n",
       "      <th>lfo</th>\n",
       "      <th>empflag</th>\n",
       "      <th>emp_nf</th>\n",
       "      <th>emp</th>\n",
       "      <th>qp1_nf</th>\n",
       "      <th>qp1</th>\n",
       "      <th>ap_nf</th>\n",
       "      <th>ap</th>\n",
       "      <th>est</th>\n",
       "      <th>censtate</th>\n",
       "    </tr>\n",
       "  </thead>\n",
       "  <tbody>\n",
       "    <tr>\n",
       "      <th>325678</th>\n",
       "      <td>41</td>\n",
       "      <td></td>\n",
       "      <td>Z</td>\n",
       "      <td>NaN</td>\n",
       "      <td>G</td>\n",
       "      <td>452979</td>\n",
       "      <td>G</td>\n",
       "      <td>4045397</td>\n",
       "      <td>G</td>\n",
       "      <td>18153655</td>\n",
       "      <td>49893</td>\n",
       "      <td>92</td>\n",
       "    </tr>\n",
       "    <tr>\n",
       "      <th>325679</th>\n",
       "      <td>41</td>\n",
       "      <td></td>\n",
       "      <td>S</td>\n",
       "      <td>NaN</td>\n",
       "      <td>G</td>\n",
       "      <td>63299</td>\n",
       "      <td>G</td>\n",
       "      <td>375031</td>\n",
       "      <td>G</td>\n",
       "      <td>1677498</td>\n",
       "      <td>15464</td>\n",
       "      <td>92</td>\n",
       "    </tr>\n",
       "    <tr>\n",
       "      <th>325680</th>\n",
       "      <td>41</td>\n",
       "      <td></td>\n",
       "      <td>P</td>\n",
       "      <td>NaN</td>\n",
       "      <td>G</td>\n",
       "      <td>172462</td>\n",
       "      <td>G</td>\n",
       "      <td>1399103</td>\n",
       "      <td>G</td>\n",
       "      <td>6051309</td>\n",
       "      <td>13869</td>\n",
       "      <td>92</td>\n",
       "    </tr>\n",
       "    <tr>\n",
       "      <th>325681</th>\n",
       "      <td>41</td>\n",
       "      <td></td>\n",
       "      <td>N</td>\n",
       "      <td>NaN</td>\n",
       "      <td>G</td>\n",
       "      <td>216844</td>\n",
       "      <td>G</td>\n",
       "      <td>2221553</td>\n",
       "      <td>G</td>\n",
       "      <td>9420010</td>\n",
       "      <td>10077</td>\n",
       "      <td>92</td>\n",
       "    </tr>\n",
       "    <tr>\n",
       "      <th>325682</th>\n",
       "      <td>41</td>\n",
       "      <td></td>\n",
       "      <td>G</td>\n",
       "      <td>NaN</td>\n",
       "      <td>H</td>\n",
       "      <td>18467</td>\n",
       "      <td>H</td>\n",
       "      <td>299952</td>\n",
       "      <td>H</td>\n",
       "      <td>1188650</td>\n",
       "      <td>23</td>\n",
       "      <td>92</td>\n",
       "    </tr>\n",
       "  </tbody>\n",
       "</table>\n",
       "</div>"
      ],
      "text/plain": [
       "        fipstate naics lfo empflag emp_nf     emp qp1_nf      qp1 ap_nf  \\\n",
       "325678        41         Z     NaN      G  452979      G  4045397     G   \n",
       "325679        41         S     NaN      G   63299      G   375031     G   \n",
       "325680        41         P     NaN      G  172462      G  1399103     G   \n",
       "325681        41         N     NaN      G  216844      G  2221553     G   \n",
       "325682        41         G     NaN      H   18467      H   299952     H   \n",
       "\n",
       "              ap    est  censtate  \n",
       "325678  18153655  49893        92  \n",
       "325679   1677498  15464        92  \n",
       "325680   6051309  13869        92  \n",
       "325681   9420010  10077        92  \n",
       "325682   1188650     23        92  "
      ]
     },
     "execution_count": 16,
     "metadata": {},
     "output_type": "execute_result"
    }
   ],
   "source": [
    "df.head()"
   ]
  },
  {
   "cell_type": "code",
   "execution_count": 17,
   "metadata": {},
   "outputs": [
    {
     "data": {
      "text/plain": [
       "325678   NaN\n",
       "325679   NaN\n",
       "325680   NaN\n",
       "325681   NaN\n",
       "325682   NaN\n",
       "Name: naics, dtype: float64"
      ]
     },
     "execution_count": 17,
     "metadata": {},
     "output_type": "execute_result"
    }
   ],
   "source": [
    "#Filling up the empty rows with NaN values\n",
    "\n",
    "df.naics = pd.to_numeric(df.naics, errors='ignore')\n",
    "df.naics = pd.to_numeric(df.naics, errors='coerce')\n",
    "df.naics.head()"
   ]
  },
  {
   "cell_type": "code",
   "execution_count": 18,
   "metadata": {},
   "outputs": [
    {
     "data": {
      "text/plain": [
       "325678    0\n",
       "325679    0\n",
       "325680    0\n",
       "325681    0\n",
       "325682    0\n",
       "Name: naics, dtype: object"
      ]
     },
     "execution_count": 18,
     "metadata": {},
     "output_type": "execute_result"
    }
   ],
   "source": [
    "#Replacing NaN values with 0\n",
    "\n",
    "df.naics = df.naics.fillna(value='0')\n",
    "df.naics.head()"
   ]
  },
  {
   "cell_type": "code",
   "execution_count": 19,
   "metadata": {},
   "outputs": [],
   "source": [
    "#Converting the 'naics' column to a float\n",
    "\n",
    "df['naics'] = df.naics.astype(float)"
   ]
  },
  {
   "cell_type": "code",
   "execution_count": 20,
   "metadata": {},
   "outputs": [
    {
     "data": {
      "text/plain": [
       "325678    0.0\n",
       "325679    0.0\n",
       "325680    0.0\n",
       "325681    0.0\n",
       "325682    0.0\n",
       "Name: naics, dtype: float64"
      ]
     },
     "execution_count": 20,
     "metadata": {},
     "output_type": "execute_result"
    }
   ],
   "source": [
    "df.naics.head()"
   ]
  },
  {
   "cell_type": "code",
   "execution_count": 21,
   "metadata": {},
   "outputs": [
    {
     "data": {
      "text/plain": [
       "813990.0"
      ]
     },
     "execution_count": 21,
     "metadata": {},
     "output_type": "execute_result"
    }
   ],
   "source": [
    "df['naics'].max()"
   ]
  },
  {
   "cell_type": "markdown",
   "metadata": {},
   "source": [
    "### Implementing KMeans "
   ]
  },
  {
   "cell_type": "code",
   "execution_count": 22,
   "metadata": {},
   "outputs": [
    {
     "data": {
      "text/plain": [
       "array([[0.0000e+00, 4.9893e+04],\n",
       "       [0.0000e+00, 1.5464e+04],\n",
       "       [0.0000e+00, 1.3869e+04],\n",
       "       ...,\n",
       "       [9.9000e+01, 1.6000e+01],\n",
       "       [9.9000e+01, 3.0000e+00],\n",
       "       [9.9000e+01, 2.0000e+00]])"
      ]
     },
     "execution_count": 22,
     "metadata": {},
     "output_type": "execute_result"
    }
   ],
   "source": [
    "X = df.iloc[:, [1,10]].values\n",
    "X"
   ]
  },
  {
   "cell_type": "markdown",
   "metadata": {},
   "source": [
    "### Creating Clusters"
   ]
  },
  {
   "cell_type": "code",
   "execution_count": 23,
   "metadata": {},
   "outputs": [
    {
     "data": {
      "image/png": "[encoded data removed]",
      "text/plain": [
       "<Figure size 432x288 with 1 Axes>"
      ]
     },
     "metadata": {
      "needs_background": "light"
     },
     "output_type": "display_data"
    }
   ],
   "source": [
    "#Using elbow method to find optimal number of clusters \n",
    "from sklearn.cluster import KMeans\n",
    "wcss = []\n",
    "for i in range (1,11):\n",
    "    kmeans = KMeans(n_clusters = i, init = 'k-means++', max_iter = 300, n_init = 10, random_state = 0)\n",
    "    kmeans.fit(X)\n",
    "    wcss.append(kmeans.inertia_)\n",
    "plt.plot(range(1,11), wcss)\n",
    "plt.title('The Elbow Method')\n",
    "plt.xlabel('Number of Clusters')\n",
    "plt.ylabel('WCSS')\n",
    "plt.show()"
   ]
  },
  {
   "cell_type": "markdown",
   "metadata": {},
   "source": [
    "### Applying KMeans"
   ]
  },
  {
   "cell_type": "code",
   "execution_count": 24,
   "metadata": {},
   "outputs": [],
   "source": [
    "#Applying kmeans to the dataset\n",
    "kmeans = KMeans(n_clusters = 4, init = 'k-means++', max_iter = 300, n_init = 10, random_state = 0)\n",
    "y_kmeans = kmeans.fit_predict(X)"
   ]
  },
  {
   "cell_type": "code",
   "execution_count": 25,
   "metadata": {},
   "outputs": [
    {
     "name": "stdout",
     "output_type": "stream",
     "text": [
      "[1 1 1 ... 1 1 1]\n"
     ]
    }
   ],
   "source": [
    "print(y_kmeans)"
   ]
  },
  {
   "cell_type": "markdown",
   "metadata": {},
   "source": [
    "### Visualizing the data"
   ]
  },
  {
   "cell_type": "code",
   "execution_count": 26,
   "metadata": {},
   "outputs": [
    {
     "data": {
      "image/png": "[encoded data removed]",
      "text/plain": [
       "<Figure size 432x288 with 1 Axes>"
      ]
     },
     "metadata": {
      "needs_background": "light"
     },
     "output_type": "display_data"
    }
   ],
   "source": [
    "#Visualizing the clusters\n",
    "plt.scatter(X[y_kmeans == 0, 0], X[y_kmeans == 0, 1], s = 100, c = 'red', label = 'Cluster 1')\n",
    "plt.scatter(X[y_kmeans == 1, 0], X[y_kmeans == 1, 1], s = 100, c = 'blue', label = 'Cluster 2')\n",
    "plt.scatter(X[y_kmeans == 2, 0], X[y_kmeans == 2, 1], s = 100, c = 'green', label = 'Cluster 3')\n",
    "plt.scatter(X[y_kmeans == 3, 0], X[y_kmeans == 3, 1], s = 100, c = 'magenta', label = 'Cluster 4')\n",
    "plt.scatter(kmeans.cluster_centers_[:,0], kmeans.cluster_centers_[:,1], s = 300, c = 'yellow', label = 'Centroids')\n",
    "plt.title('Clusters')\n",
    "plt.xlabel('Industry Codes (NAICS)')\n",
    "plt.ylabel('Total Number of Establishments')\n",
    "plt.legend()\n",
    "plt.show()"
   ]
  },
  {
   "cell_type": "code",
   "execution_count": 35,
   "metadata": {},
   "outputs": [
    {
     "data": {
      "text/plain": [
       "array([[18153655,    49893],\n",
       "       [ 1677498,    15464],\n",
       "       [ 6051309,    13869],\n",
       "       ...,\n",
       "       [    1484,       16],\n",
       "       [      24,        3],\n",
       "       [       0,        2]])"
      ]
     },
     "execution_count": 35,
     "metadata": {},
     "output_type": "execute_result"
    }
   ],
   "source": [
    "X = df.iloc[:, [9,10]].values\n",
    "X"
   ]
  },
  {
   "cell_type": "code",
   "execution_count": 36,
   "metadata": {},
   "outputs": [
    {
     "data": {
      "image/png": "[encoded data removed]",
      "text/plain": [
       "<Figure size 432x288 with 1 Axes>"
      ]
     },
     "metadata": {
      "needs_background": "light"
     },
     "output_type": "display_data"
    }
   ],
   "source": [
    "from sklearn.cluster import KMeans\n",
    "wcss = []\n",
    "for i in range (1,11):\n",
    "    kmeans = KMeans(n_clusters = i, init = 'k-means++', max_iter = 300, n_init = 10, random_state = 0)\n",
    "    kmeans.fit(X)\n",
    "    wcss.append(kmeans.inertia_)\n",
    "plt.plot(range(1,11), wcss)\n",
    "plt.title('The Elbow Method')\n",
    "plt.xlabel('Number of Clusters')\n",
    "plt.ylabel('WCSS')\n",
    "plt.show()"
   ]
  },
  {
   "cell_type": "code",
   "execution_count": 37,
   "metadata": {},
   "outputs": [],
   "source": [
    "kmeans = KMeans(n_clusters = 4, init = 'k-means++', max_iter = 300, n_init = 10, random_state = 0)\n",
    "y_kmeans = kmeans.fit_predict(X)"
   ]
  },
  {
   "cell_type": "code",
   "execution_count": 39,
   "metadata": {},
   "outputs": [
    {
     "data": {
      "image/png": "[encoded data removed]",
      "text/plain": [
       "<Figure size 432x288 with 1 Axes>"
      ]
     },
     "metadata": {
      "needs_background": "light"
     },
     "output_type": "display_data"
    }
   ],
   "source": [
    "plt.scatter(X[y_kmeans == 0, 0], X[y_kmeans == 0, 1], s = 100, c = 'red', label = 'Cluster 1')\n",
    "plt.scatter(X[y_kmeans == 1, 0], X[y_kmeans == 1, 1], s = 100, c = 'blue', label = 'Cluster 2')\n",
    "plt.scatter(X[y_kmeans == 2, 0], X[y_kmeans == 2, 1], s = 100, c = 'green', label = 'Cluster 3')\n",
    "plt.scatter(X[y_kmeans == 3, 0], X[y_kmeans == 3, 1], s = 100, c = 'magenta', label = 'Cluster 4')\n",
    "plt.scatter(kmeans.cluster_centers_[:,0], kmeans.cluster_centers_[:,1], s = 300, c = 'yellow', label = 'Centroids')\n",
    "plt.title('Clusters')\n",
    "plt.xlabel('AP')\n",
    "plt.ylabel('Total Number of Establishments')\n",
    "plt.legend()\n",
    "plt.show()"
   ]
  },
  {
   "cell_type": "code",
   "execution_count": null,
   "metadata": {},
   "outputs": [],
   "source": []
  }
 ],
 "metadata": {
  "kernelspec": {
   "display_name": "Python 3",
   "language": "python",
   "name": "python3"
  },
  "language_info": {
   "codemirror_mode": {
    "name": "ipython",
    "version": 3
   },
   "file_extension": ".py",
   "mimetype": "text/x-python",
   "name": "python",
   "nbconvert_exporter": "python",
   "pygments_lexer": "ipython3",
   "version": "3.7.1"
  }
 },
 "nbformat": 4,
 "nbformat_minor": 2
}
